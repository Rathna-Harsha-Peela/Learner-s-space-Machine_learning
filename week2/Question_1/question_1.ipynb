{
  "nbformat": 4,
  "nbformat_minor": 0,
  "metadata": {
    "colab": {
      "provenance": [],
      "gpuType": "T4"
    },
    "kernelspec": {
      "name": "python3",
      "display_name": "Python 3"
    },
    "language_info": {
      "name": "python"
    },
    "accelerator": "GPU"
  },
  "cells": [
    {
      "cell_type": "code",
      "execution_count": 14,
      "metadata": {
        "colab": {
          "base_uri": "https://localhost:8080/"
        },
        "id": "oNow1ky9lGOq",
        "outputId": "a35212a8-6e71-4ed1-a968-789bd79c34ce"
      },
      "outputs": [
        {
          "output_type": "stream",
          "name": "stdout",
          "text": [
            "Drive already mounted at /content/drive; to attempt to forcibly remount, call drive.mount(\"/content/drive\", force_remount=True).\n",
            "Found 269 files belonging to 2 classes.\n",
            "Epoch 1/10\n",
            "8/8 [==============================] - 3s 146ms/step - loss: 4.5890 - accuracy: 0.4766 - val_loss: 0.5327 - val_accuracy: 0.9231\n",
            "Epoch 2/10\n",
            "8/8 [==============================] - 0s 7ms/step - loss: 0.8121 - accuracy: 0.6133 - val_loss: 0.6026 - val_accuracy: 0.6923\n",
            "Epoch 3/10\n",
            "8/8 [==============================] - 0s 6ms/step - loss: 0.8466 - accuracy: 0.6406 - val_loss: 0.6521 - val_accuracy: 0.6923\n",
            "Epoch 4/10\n",
            "8/8 [==============================] - 0s 6ms/step - loss: 0.7702 - accuracy: 0.6914 - val_loss: 0.2509 - val_accuracy: 1.0000\n",
            "Epoch 5/10\n",
            "8/8 [==============================] - 0s 6ms/step - loss: 0.4591 - accuracy: 0.7891 - val_loss: 0.7137 - val_accuracy: 0.6154\n",
            "Epoch 6/10\n",
            "8/8 [==============================] - 0s 6ms/step - loss: 0.7606 - accuracy: 0.6641 - val_loss: 0.1801 - val_accuracy: 1.0000\n",
            "Epoch 7/10\n",
            "8/8 [==============================] - 0s 9ms/step - loss: 0.4620 - accuracy: 0.8047 - val_loss: 0.1855 - val_accuracy: 1.0000\n",
            "Epoch 8/10\n",
            "8/8 [==============================] - 0s 6ms/step - loss: 0.4630 - accuracy: 0.8164 - val_loss: 0.2330 - val_accuracy: 0.7692\n",
            "Epoch 9/10\n",
            "8/8 [==============================] - 0s 7ms/step - loss: 0.4823 - accuracy: 0.7695 - val_loss: 0.1480 - val_accuracy: 1.0000\n",
            "Epoch 10/10\n",
            "8/8 [==============================] - 0s 9ms/step - loss: 0.3206 - accuracy: 0.8594 - val_loss: 0.1510 - val_accuracy: 1.0000\n",
            "1/1 [==============================] - 0s 10ms/step - loss: 0.1510 - accuracy: 1.0000\n",
            "Test Accuracy: 1.0\n"
          ]
        }
      ],
      "source": [
        "import tensorflow as tf\n",
        "from tensorflow import keras\n",
        "from tensorflow.keras.layers import Dense,Flatten\n",
        "from tensorflow.keras import Input\n",
        "\n",
        "from google.colab import drive\n",
        "drive.mount('/content/drive')\n",
        "dataset = tf.keras.preprocessing.image_dataset_from_directory('/content/drive/MyDrive/Colab Notebooks/homer_bart' ,image_size=(64, 64),label_mode = \"binary\")\n",
        "\n",
        "train_data = dataset.take(8)\n",
        "test_data = dataset.skip(8)\n",
        "\n",
        "train_data = train_data.cache().shuffle(1000).prefetch(buffer_size=tf.data.AUTOTUNE)\n",
        "test_data = test_data.cache().shuffle(1000).prefetch(buffer_size=tf.data.AUTOTUNE)\n",
        "\n",
        "preprocess = tf.keras.Sequential(\n",
        "    [tf.keras.layers.Rescaling(1.0/255)] # rescaling factor\n",
        ")\n",
        "\n",
        "model = tf.keras.Sequential()\n",
        "\n",
        "model.add(Input((64,64,3)))\n",
        "model.add(Flatten())\n",
        "model.add(preprocess)\n",
        "model.add(Dense(512, activation='relu'))\n",
        "model.add(Dense(256, activation='relu'))\n",
        "model.add(Dense(128, activation='relu'))\n",
        "model.add(Dense(1, activation='sigmoid'))\n",
        "\n",
        "model.compile(optimizer=keras.optimizers.Adam(learning_rate = 0.001),\n",
        "              loss ='BinaryCrossentropy',\n",
        "              metrics = ['accuracy'])\n",
        "\n",
        "model.fit(train_data,\n",
        "          epochs = 10,\n",
        "          batch_size = 32,\n",
        "          verbose=1,\n",
        "          validation_data = test_data)\n",
        "\n",
        "print(f\"Test Accuracy: {model.evaluate(test_data)[1]}\")"
      ]
    }
  ]
}